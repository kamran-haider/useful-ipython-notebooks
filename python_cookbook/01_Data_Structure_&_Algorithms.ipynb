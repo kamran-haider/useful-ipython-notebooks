{
 "cells": [
  {
   "cell_type": "markdown",
   "metadata": {},
   "source": [
    "## Tricks with Python Data Structures ##\n",
    "\n",
    "In this notebook, we cover examples from Chapter 1 of the _Python Cookbook_. This examples involve various recipes and tricks while using data contained in Python's standard data structures.\n",
    "\n",
    "The first set of recipes involves unpacking iterables. This means that if we have an N-element list or tuple (referred to as *iterable* in general), how to access various elements inside the iterable. Python offers an elegant solution for this."
   ]
  },
  {
   "cell_type": "code",
   "execution_count": 3,
   "metadata": {
    "collapsed": false
   },
   "outputs": [
    {
     "name": "stdout",
     "output_type": "stream",
     "text": [
      "2.33 3.21 2.99\n"
     ]
    }
   ],
   "source": [
    "data = [\"ATOM\", 2.33, 3.21, 2.99, 0.99, 1]\n",
    "_, x, y, z, occupancy, conf = data\n",
    "print(x, y, z)"
   ]
  },
  {
   "cell_type": "markdown",
   "metadata": {
    "collapsed": true
   },
   "source": [
    "Note that we used `_` as a throw-away variable. While this form of unpacking might seem trivial but the first thing to notice here is that our code looks quite compact and neat. On the contrary, we could have used three separate lines such that `x = data[1]`, `y = data[2]` etc, which obviously works but isn't as neat. Furthermore, we are only beginning to see the value of this unpacking capability. Check out the next example:"
   ]
  },
  {
   "cell_type": "code",
   "execution_count": 4,
   "metadata": {
    "collapsed": false
   },
   "outputs": [
    {
     "name": "stdout",
     "output_type": "stream",
     "text": [
      "ATOM\n",
      "[2.33, 3.21, 2.99, 0.99, 1]\n"
     ]
    }
   ],
   "source": [
    "atom, *details = data\n",
    "print(atom)\n",
    "print(details)"
   ]
  },
  {
   "cell_type": "markdown",
   "metadata": {},
   "source": [
    "This is quite handy. Imagine, if you were parsing a file where each line is a record of something, the first column is an identifier for each record and rest of the columns are some kind of details. You can neatly construct a dictionary of all records. Note that this functionality is available only in Python3 onwards."
   ]
  },
  {
   "cell_type": "code",
   "execution_count": null,
   "metadata": {
    "collapsed": true
   },
   "outputs": [],
   "source": []
  }
 ],
 "metadata": {
  "anaconda-cloud": {},
  "kernelspec": {
   "display_name": "Python [py35]",
   "language": "python",
   "name": "Python [py35]"
  },
  "language_info": {
   "codemirror_mode": {
    "name": "ipython",
    "version": 3
   },
   "file_extension": ".py",
   "mimetype": "text/x-python",
   "name": "python",
   "nbconvert_exporter": "python",
   "pygments_lexer": "ipython3",
   "version": "3.5.1"
  }
 },
 "nbformat": 4,
 "nbformat_minor": 0
}
