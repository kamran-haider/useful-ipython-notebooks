{
 "cells": [
  {
   "cell_type": "markdown",
   "metadata": {},
   "source": [
    "## Tricks with Python Data Structures ##\n",
    "\n",
    "In this notebook, we cover examples from Chapter 1 of the _Python Cookbook_. This examples involve various recipes and tricks while using data contained in Python's standard data structures.\n",
    "\n",
    "The first set of recipes involves unpacking iterables. This means that if we have an N-element list or tuple (referred to as *iterable* in general), how to access various elements inside the iterable. Python offers an elegant solution for this."
   ]
  },
  {
   "cell_type": "code",
   "execution_count": 2,
   "metadata": {
    "collapsed": false
   },
   "outputs": [
    {
     "name": "stdout",
     "output_type": "stream",
     "text": [
      "2.33 3.21 2.99\n"
     ]
    }
   ],
   "source": [
    "data = [\"ATOM\", 2.33, 3.21, 2.99, 0.99, 1]\n",
    "_, x, y, z, occupancy, conf = data\n",
    "print x, y, z"
   ]
  },
  {
   "cell_type": "code",
   "execution_count": null,
   "metadata": {
    "collapsed": true
   },
   "outputs": [],
   "source": []
  }
 ],
 "metadata": {
  "kernelspec": {
   "display_name": "Python [Root]",
   "language": "python",
   "name": "Python [Root]"
  },
  "language_info": {
   "codemirror_mode": {
    "name": "ipython",
    "version": 2
   },
   "file_extension": ".py",
   "mimetype": "text/x-python",
   "name": "python",
   "nbconvert_exporter": "python",
   "pygments_lexer": "ipython2",
   "version": "2.7.11"
  }
 },
 "nbformat": 4,
 "nbformat_minor": 0
}
