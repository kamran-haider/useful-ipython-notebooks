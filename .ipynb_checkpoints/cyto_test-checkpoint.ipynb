{
 "cells": [
  {
   "cell_type": "markdown",
   "metadata": {
    "collapsed": false
   },
   "source": [
    "Using Cytoscape Plugin in IPython Notebook\n",
    "==========================================\n",
    "\n",
    "First you need to install the Cytoscape IPython extension from:\n",
    "\n",
    "https://github.com/kzuberi/ipython-cytoscape.js\n",
    "\n",
    "You will need to run the following command on your terminal:\n",
    "\n",
    "\n",
    "\n",
    "```$ pip install git+git://github.com/kzuberi/ipython-cytoscape.js#egg=ipython-cytoscape.js```\n",
    "\n",
    "Once installed, you can start using this by invoking the following:"
   ]
  },
  {
   "cell_type": "code",
   "execution_count": 4,
   "metadata": {
    "collapsed": false
   },
   "outputs": [
    {
     "data": {
      "application/javascript": [
       "\n",
       "require.config({\n",
       "    paths: {\n",
       "        cytoscape: \"http://cytoscape.github.io/cytoscape.js/api/cytoscape.js-latest/cytoscape.min\",\n",
       "    }\n",
       "});\n",
       "\n",
       "require([\"cytoscape\"], function(cytoscape) {\n",
       "    // if there is a widget state saved in the page, use to\n",
       "    // initialize a graph. May be able to support display on\n",
       "    // viewer pages without the backend.\n",
       "    $.each($(\"#cyto_state\"), function(){\n",
       "        console.log(\"found a cyto_state %o\", this);\n",
       "        var json_state = $.parseJSON($(this).text());\n",
       "\n",
       "        // change layout to use saved positions\n",
       "        json_state['layout'] = {'name': 'preset'};\n",
       "\n",
       "        $(this).after(\"<div id='cyto_graph' style='height: 500px; width: 500px; position: relative'></div>\");\n",
       "        $(\"#cyto_graph\").cytoscape(json_state);\n",
       "    });\n",
       "\n",
       "});\n",
       "\n",
       "//require([\"widgets/js/widget\", \"cytoscape\"], function(widget, cytoscape){\n",
       "require([\"nbextensions/widgets/widgets/js/widget\",\n",
       "         \"nbextensions/widgets/widgets/js/manager\",\n",
       "         \"cytoscape\"],\n",
       "         function(widget, manager, cytoscape){\n",
       "\n",
       "    var CytoWidgetView = widget.DOMWidgetView.extend({\n",
       "//        if we need the initialize function, remember to put in a call\n",
       "//        to the super method. here's a reminder:\n",
       "//        initialize: function() {\n",
       "//            return CytoWidgetView.__super__.initialize.apply(this, arguments);\n",
       "//        },\n",
       "\n",
       "        render: function(){\n",
       "            // for some reason setting up cytoscape in this render\n",
       "            // function doesn't work anymore, moved the work to update()\n",
       "            this.model.on('change:elements', this.value_changed, this);\n",
       "            return this;\n",
       "        },\n",
       "\n",
       "        value_changed: function() {\n",
       "          console.log(\"in value_changed()\");\n",
       "        },\n",
       "\n",
       "        update: function() {\n",
       "\n",
       "          this.$el.css('height', '500px');\n",
       "          this.$el.css('width', '500px');\n",
       "          this.$el.css('position', 'relative');\n",
       "\n",
       "          // since cy.load() is deprecated, and cy.add()\n",
       "          // requires a different format, setup the elements\n",
       "          // when creating the cytocape instance, and\n",
       "          // figure out how to deal with updates later\n",
       "          var elements = this.model.get('elements');\n",
       "          var node_data = $.parseJSON(elements[0]);\n",
       "          var edge_data = $.parseJSON(elements[1]);\n",
       "\n",
       "          var nodes = [];\n",
       "          for (var i=0; i<node_data.length; i++) {\n",
       "              nodes.push({data: node_data[i]});\n",
       "          }\n",
       "\n",
       "          var edges = [];\n",
       "          for (var i=0; i<edge_data.length; i++) {\n",
       "              edges.push({data: edge_data[i]});\n",
       "          }\n",
       "\n",
       "          var elems = {nodes: nodes, edges: edges};\n",
       "          // console.log(\"elements\", JSON.stringify(elems));\n",
       "\n",
       "          var that = this;\n",
       "\n",
       "          this.$el.cytoscape({\n",
       "            elements: elems,\n",
       "\n",
       "              layout: {\n",
       "                  name: 'circle',\n",
       "                  fit: true,\n",
       "              },\n",
       "\n",
       "              zoomingEnabled: true,\n",
       "              userZoomingEnabled: false,\n",
       "              pan: { x: 0, y: 0 },\n",
       "              panningEnabled: true,\n",
       "              userPanningEnabled: false,\n",
       "\n",
       "              ready: function(evt){\n",
       "                  // clear cytoscape container position cache\n",
       "                  // to work around scrolling bug\n",
       "                  var cy = this;\n",
       "                  that.$el.closest(\"#notebook\").scroll(function(){\n",
       "                      cy._private.renderer.containerBB = null;\n",
       "                  });\n",
       "              },\n",
       "          })\n",
       "\n",
       "          var cy = this.$el.cytoscape('get');\n",
       "\n",
       "          var layout = this.model.get('layout');\n",
       "          cy.layout({name: layout, fit: true});\n",
       "\n",
       "          var style = this.model.get('style');\n",
       "          cy.style().resetToDefault().fromJson($.parseJSON(style)).update();\n",
       "\n",
       "          return CytoWidgetView.__super__.update.apply(this);\n",
       "        },\n",
       "\n",
       "        on_msg: function(msg) {\n",
       "            switch (msg.msg_type) {\n",
       "                case 'get_snapshot':\n",
       "                    var cy = this.$el.cytoscape('get');\n",
       "                    var image = cy.png()\n",
       "                    var return_msg = {'msg_type': 'snapshot', 'image': image};\n",
       "\n",
       "                    // pass on_return back\n",
       "                    if (msg.on_return == 'display') {\n",
       "                        return_msg['on_return'] = 'display';\n",
       "                    }\n",
       "                    else if (msg.on_return == 'save') {\n",
       "                        return_msg['on_return'] = 'save';\n",
       "                        return_msg['filename'] = msg.filename;\n",
       "                    }\n",
       "\n",
       "                    this.send(return_msg);\n",
       "                    break;\n",
       "                case 'save_state':\n",
       "                    var cy = this.$el.cytoscape('get');\n",
       "                    var json = JSON.stringify(cy.json());\n",
       "                    this.send({'msg_type': 'json', 'json': json});\n",
       "                    break;\n",
       "                default:\n",
       "                    console.log(\"unexpected msg_type\", msg.msg_type);\n",
       "            }\n",
       "        }\n",
       "\n",
       "    });\n",
       "\n",
       "    // register widget\n",
       "    manager.WidgetManager.register_widget_view('CytoWidgetView', CytoWidgetView);\n",
       "});\n"
      ],
      "text/plain": [
       "<IPython.core.display.Javascript object>"
      ]
     },
     "metadata": {},
     "output_type": "display_data"
    }
   ],
   "source": [
    "%load_ext cyto\n",
    "import pandas as pd"
   ]
  },
  {
   "cell_type": "code",
   "execution_count": 7,
   "metadata": {
    "collapsed": false
   },
   "outputs": [
    {
     "name": "stdout",
     "output_type": "stream",
     "text": [
      "['RA0019', 'SA0023', 'TA0024', 'NA0025', 'DA0028', 'YA0122', 'EA0548', 'HA0549', 'NA0140', 'HA0026', 'DA0132', 'TA0550', 'KA0027', 'SA0544', 'YA0033', 'NA0121', 'NA0139', 'SA0142', 'SA0197', 'SA0200', 'SA0201', 'EA0286', 'TA0036', 'YA0143', 'TA0048', 'SA0044', 'RA0052', 'YA0414', 'QA0471', 'NA0494', 'SA0498', 'PAAK9101', 'PDDK9102', 'EA0054', 'QA0061', 'DA0485', 'HA0067', 'EA0066', 'SA0083', 'SA0070', 'QA0078', 'NA0091', 'HA0093', 'QA0165', 'NA0096', 'SA0168', 'EA0182', 'WA0095', 'TA0100', 'SA0156', 'SA0186', 'RA0482', 'NB0170', 'YB0262', 'TA0187', 'EB0254', 'YA0530', 'HA0127', 'HA0300', 'TA0304', 'KA0442', 'TA0537', 'EA0539', 'WA0144', 'WA0172', 'YA0175', 'DA0412', 'PDDK9302', 'QA0276', 'TA0337', 'DA0407', 'HA0411', 'DB0229', 'PAAK9301', 'TA0180', 'SA0181', 'DA0256', 'QA0265', 'SA0183', 'HA0195', 'TA0251', 'NA0207', 'TA0211', 'TA0221', 'KA0224', 'HA0223', 'YA0313', 'YA0318', 'WA0230', 'SA0231', 'SA0299', 'KA0362', 'TA0255', 'TA0261', 'RA0257', 'DA0188', 'NA0258', 'SA0267', 'YA0275', 'HA0277', 'QA0344', 'WA0280', 'DA0536', 'KA0307', 'EA0376', 'NA0532', 'EA0533', 'EB0085', 'KA0308', 'TA0369', 'WA0331', 'SA0341', 'TA0343', 'QA0345', 'QB0126', 'QB0127', 'QB0228', 'TA0352', 'YA0336', 'TA0359', 'YA0288', 'SA0365', 'HB0096', 'EB0101', 'WA0366', 'KA0378', 'EA0450', 'TA0379', 'YA0448', 'TA0397', 'YA0410', 'YA0415', 'HA0472', 'DB0058', 'SA0402', 'QA0403', 'SB0119', 'SA0405', 'RA0408', 'SB0048', 'YA0409', 'QB0044', 'CUBK9500', 'YA0422', 'NA0465', 'YA0437', 'HA0456', 'WA0439', 'QA0447', 'KA0454', 'TA0467', 'SA0504', 'SA0497', 'RA0476', 'HB0055', 'QA0477', 'TA0492', 'QB0037', 'QB0251', 'RA0481', 'HEM3K9300', 'YA0483', 'EA0488', 'WA0493', 'RA0521', 'YA0517', 'NA0529', 'WA0531', 'HA0534', 'WA0540', 'TA0543', 'NA0528', 'EA0552', 'QA0553', 'KA0556', 'EA0558', 'RB0035', 'DB0188', 'EB0189', 'TB0220', 'KB0227', 'SB0253', 'SB0046', 'TB0052', 'QB0053', 'NB0125', 'RB0082', 'YB0078', 'HB0084', 'KB0086', 'TB0095', 'SB0098', 'WB0104', 'TB0135', 'DB0151', 'KB0137', 'EB0148', 'QB0209', 'TB0139', 'SB0155', 'QB0142', 'DB0214', 'SB0259', 'YB0147', 'SB0158', 'TB0194', 'TB0266', 'EB0157', 'YB0159', 'DB0195', 'TB0196', 'SB0163', 'TB0166', 'RB0171', 'TA0089', 'DB0169', 'SB0173', 'EB0175', 'QB0179', 'QB0178', 'EB0182', 'EB0288', 'YB0185', 'KB0268', 'SB0186', 'RB0187', 'EA0086', 'EB0177', 'NB0203', 'EB0243', 'KB0204', 'DB0133', 'EB0272', 'TB0205', 'QB0237', 'SB0218', 'WB0219', 'TB0211', 'RB0234', 'DA0271', 'WB0239', 'RB0241', 'RB0244', 'EB0031', 'EB0245', 'SB0271', 'EB0273', 'YB0275', 'EB0152', 'RB0283', 'EB0280']\n"
     ]
    }
   ],
   "source": [
    "data_file = open(\"f1-4-156res.dat\", \"r\")\n",
    "lines = [edge.strip().split() for edge in data_file.readlines()]\n",
    "nodes = []\n",
    "for l in lines:\n",
    "    source, target = l[0], l[1]\n",
    "    if source not in nodes:\n",
    "        nodes.append([source, source, 10])\n",
    "    if target not in nodes:\n",
    "        nodes.append([target, target, 10)\n",
    "print nodes\n",
    "#nodes = pd.DataFrame(lines, columns=['id', 'name', 'weight'])\n",
    "#print nodes"
   ]
  },
  {
   "cell_type": "code",
   "execution_count": null,
   "metadata": {
    "collapsed": true
   },
   "outputs": [],
   "source": []
  }
 ],
 "metadata": {
  "anaconda-cloud": {},
  "kernelspec": {
   "display_name": "Python [Root]",
   "language": "python",
   "name": "Python [Root]"
  },
  "language_info": {
   "codemirror_mode": {
    "name": "ipython",
    "version": 2
   },
   "file_extension": ".py",
   "mimetype": "text/x-python",
   "name": "python",
   "nbconvert_exporter": "python",
   "pygments_lexer": "ipython2",
   "version": "2.7.11"
  }
 },
 "nbformat": 4,
 "nbformat_minor": 0
}
