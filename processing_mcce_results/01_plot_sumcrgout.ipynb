{
 "cells": [
  {
   "cell_type": "markdown",
   "metadata": {},
   "source": [
    "Plotting data from `sum_crg.out`\n",
    "---\n",
    "An example of using `matplotlib` to plot data from `sum_crg.out`. First we import the relevant modules."
   ]
  },
  {
   "cell_type": "code",
   "execution_count": 5,
   "metadata": {
    "collapsed": false
   },
   "outputs": [],
   "source": [
    "%matplotlib inline\n",
    "import numpy as np\n",
    "import matplotlib.pyplot as plt\n"
   ]
  },
  {
   "cell_type": "markdown",
   "metadata": {},
   "source": [
    "Read in the data and create relevant arrays. This step is a little tricky because numpy can not read such file. "
   ]
  },
  {
   "cell_type": "code",
   "execution_count": 100,
   "metadata": {
    "collapsed": false
   },
   "outputs": [],
   "source": [
    "ph_range = []\n",
    "residue_data = {}\n",
    "\n",
    "with open(\"sum_crg.out\", \"r\") as data:\n",
    "    lines = data.readlines()\n",
    "    header = lines[0].split(\" \")\n",
    "    for col in header:\n",
    "        if col not in [\"\", \"pH\"]:\n",
    "            ph_range.append(int(col))\n",
    "    residue_lines = lines[1:-4]\n",
    "    for line in residue_lines:\n",
    "        res_line = line.strip(\"\\n\").split(\" \")\n",
    "        res_vals = []\n",
    "        for val in res_line[1:]:\n",
    "            if val != \"\":\n",
    "                res_vals.append(float(val))\n",
    "        residue_data[res_line[0]] = np.asarray(res_vals)\n",
    "ph_range = np.asarray(ph_range)\n"
   ]
  },
  {
   "cell_type": "markdown",
   "metadata": {},
   "source": [
    "Now we have all the right data in the right place. Our x values are in the `ph_range` array and our y values are in the `residue_data` dictionary, so that for each residue we can access the charges at different pH using its name from the `sum_crg.out` file.\n"
   ]
  },
  {
   "cell_type": "code",
   "execution_count": 104,
   "metadata": {
    "collapsed": false
   },
   "outputs": [
    {
     "data": {
      "text/plain": [
       "<matplotlib.text.Text at 0x10e358c50>"
      ]
     },
     "execution_count": 104,
     "metadata": {},
     "output_type": "execute_result"
    },
    {
     "data": {
      "image/png": "[encoded data removed]",
      "text/plain": [
       "<matplotlib.figure.Figure at 0x10b6a35d0>"
      ]
     },
     "metadata": {},
     "output_type": "display_data"
    }
   ],
   "source": [
    "group_of_interest = 'ARG+A0001_'\n",
    "plt.plot(ph_range, residue_data[group_of_interest], '-ro')\n",
    "plt.xlabel(\"pH\")\n",
    "plt.ylabel(\"Charge\")\n",
    "plt.title(\"Charge vs pH for %s\" % group_of_interest)"
   ]
  },
  {
   "cell_type": "code",
   "execution_count": null,
   "metadata": {
    "collapsed": true
   },
   "outputs": [],
   "source": []
  }
 ],
 "metadata": {
  "anaconda-cloud": {},
  "kernelspec": {
   "display_name": "Python [py27]",
   "language": "python",
   "name": "Python [py27]"
  },
  "language_info": {
   "codemirror_mode": {
    "name": "ipython",
    "version": 2
   },
   "file_extension": ".py",
   "mimetype": "text/x-python",
   "name": "python",
   "nbconvert_exporter": "python",
   "pygments_lexer": "ipython2",
   "version": "2.7.12"
  }
 },
 "nbformat": 4,
 "nbformat_minor": 0
}
